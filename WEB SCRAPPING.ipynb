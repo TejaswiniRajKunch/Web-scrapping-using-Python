{
 "cells": [
  {
   "cell_type": "code",
   "execution_count": 1,
   "id": "6b41a8b0-b580-4784-b857-6dafa7f01ffd",
   "metadata": {
    "tags": []
   },
   "outputs": [],
   "source": [
    "import requests\n",
    "import pandas as pd\n",
    "from bs4 import BeautifulSoup\n",
    "from datetime import datetime"
   ]
  },
  {
   "cell_type": "code",
   "execution_count": 2,
   "id": "eb8fb3a2-97b7-48a4-afce-0695da2bffbd",
   "metadata": {
    "tags": []
   },
   "outputs": [],
   "source": [
    "headers = {\n",
    "    'authority': 'www.amazon.com',\n",
    "    'accept': 'text/html,application/xhtml+xml,application/xml;q=0.9,image/avif,image/webp,image/apng,*/*;q=0.8,application/signed-exchange;v=b3;q=0.9',\n",
    "    'accept-language': 'en-US,en;q=0.9,bn;q=0.8',\n",
    "    'sec-ch-ua': '\" Not A;Brand\";v=\"99\", \"Chromium\";v=\"102\", \"Google Chrome\";v=\"102\"',\n",
    "    'user-agent': 'Mozilla/5.0 (Windows NT 10.0; Win64; x64) AppleWebKit/537.36 (KHTML, like Gecko) Chrome/102.0.0.0 Safari/537.36'\n",
    "}\n"
   ]
  },
  {
   "cell_type": "code",
   "execution_count": 3,
   "id": "f860e0ee-1d1b-43f2-aaf4-80428ef57035",
   "metadata": {
    "tags": []
   },
   "outputs": [],
   "source": [
    "reviews_url = 'https://www.amazon.in/HP-Micro-Edge-Anti-Glare-15s-fq5111TU/dp/B0B6F5V23N/ref=sr_1_1_sspa?crid=2W61VS83SVMTG&keywords=hp%2Blaptop&qid=1708004340&sprefix=hp%2Caps%2C302&sr=8-1-spons&sp_csd=d2lkZ2V0TmFtZT1zcF9hdGY&th=1'"
   ]
  },
  {
   "cell_type": "code",
   "execution_count": 4,
   "id": "8e08a5d6-cb6c-4596-9db0-399260a80e63",
   "metadata": {
    "tags": []
   },
   "outputs": [],
   "source": [
    "len_page = 4"
   ]
  },
  {
   "cell_type": "code",
   "execution_count": 5,
   "id": "2b597ea0-e542-43a8-8f3f-634501b225d7",
   "metadata": {
    "tags": []
   },
   "outputs": [],
   "source": [
    "def reviewsHtml(url, len_page):\n",
    "    \n",
    "    # Empty List define to store all pages html data\n",
    "    soups = []\n",
    "    \n",
    "    # Loop for gather all 3000 reviews from 300 pages via range\n",
    "    for page_no in range(1, len_page + 1):\n",
    "        \n",
    "        # parameter set as page no to the requests body\n",
    "        params = {\n",
    "            'ie': 'UTF8',\n",
    "            'reviewerType': 'all_reviews',\n",
    "            'filterByStar': 'critical',\n",
    "            'pageNumber': page_no,\n",
    "        }\n",
    "        \n",
    "        # Request make for each page\n",
    "        response = requests.get(url, headers=headers)\n",
    "        \n",
    "        # Save Html object by using BeautifulSoup4 and lxml parser\n",
    "        soup = BeautifulSoup(response.text, 'lxml')\n",
    "        \n",
    "        # Add single Html page data in master soups list\n",
    "        soups.append(soup)\n",
    "        \n",
    "    return soups"
   ]
  },
  {
   "cell_type": "code",
   "execution_count": 6,
   "id": "baa84a5f-f0ac-428f-9a98-3edaaae82480",
   "metadata": {
    "tags": []
   },
   "outputs": [],
   "source": [
    "def getReviews(html_data):\n",
    "\n",
    "    # Create Empty list to Hold all data\n",
    "    data_dicts = []\n",
    "    \n",
    "    # Select all Reviews BOX html using css selector\n",
    "    boxes = html_data.select('div[data-hook=\"review\"]')\n",
    "    \n",
    "    # Iterate all Reviews BOX \n",
    "    for box in boxes:\n",
    "        \n",
    "        # Select Name using css selector and cleaning text using strip()\n",
    "        # If Value is empty define value with 'N/A' for all.\n",
    "        try:\n",
    "            name = box.select_one('[class=\"a-profile-name\"]').text.strip()\n",
    "        except Exception as e:\n",
    "            name = 'N/A'\n",
    "\n",
    "        try:\n",
    "            stars = box.select_one('[data-hook=\"review-star-rating\"]').text.strip().split(' out')[0]\n",
    "        except Exception as e:\n",
    "            stars = 'N/A'   \n",
    "\n",
    "        try:\n",
    "            title = box.select_one('[data-hook=\"review-title\"]').text.strip()\n",
    "        except Exception as e:\n",
    "            title = 'N/A'\n",
    "\n",
    "        try:\n",
    "            # Convert date str to dd/mm/yyy format\n",
    "            datetime_str = box.select_one('[data-hook=\"review-date\"]').text.strip().split(' on ')[-1]\n",
    "            date = datetime.strptime(datetime_str, '%B %d, %Y').strftime(\"%d/%m/%Y\")\n",
    "        except Exception as e:\n",
    "            date = 'N/A'\n",
    "\n",
    "        try:\n",
    "            description = box.select_one('[data-hook=\"review-body\"]').text.strip()\n",
    "        except Exception as e:\n",
    "            description = 'N/A'\n",
    "\n",
    "        # create Dictionary with al review data \n",
    "        data_dict = {\n",
    "            'Name' : name,\n",
    "            'Stars' : stars,\n",
    "            'Title' : title,\n",
    "            'Date' : date,\n",
    "            'Description' : description\n",
    "        }\n",
    "\n",
    "        # Add Dictionary in master empty List\n",
    "        data_dicts.append(data_dict)\n",
    "    \n",
    "    return data_dicts"
   ]
  },
  {
   "cell_type": "code",
   "execution_count": 7,
   "id": "8c2049af-98c5-46b3-8900-a70e669172be",
   "metadata": {
    "tags": []
   },
   "outputs": [],
   "source": [
    "html_datas = reviewsHtml(reviews_url, len_page)\n",
    "\n",
    "# Empty List to Hold all reviews data\n",
    "reviews = []\n",
    "\n",
    "# Iterate all Html page \n",
    "for html_data in html_datas:\n",
    "    \n",
    "    # Grab review data\n",
    "    review = getReviews(html_data)\n",
    "    \n",
    "    # add review data in reviews empty list\n",
    "    reviews += review"
   ]
  },
  {
   "cell_type": "code",
   "execution_count": 10,
   "id": "70470b33-e98d-427d-a036-f20259206d4a",
   "metadata": {
    "tags": []
   },
   "outputs": [],
   "source": [
    "df_reviews = pd.DataFrame(reviews)"
   ]
  },
  {
   "cell_type": "code",
   "execution_count": 11,
   "id": "6a54241b-8e6b-4df1-8b8c-9a970fc80668",
   "metadata": {
    "tags": []
   },
   "outputs": [
    {
     "name": "stdout",
     "output_type": "stream",
     "text": [
      "                          Name Stars  \\\n",
      "0      Dr. Ramesh Babu Devalla   5.0   \n",
      "1                 rakesh saini   4.0   \n",
      "2                  Placeholder   5.0   \n",
      "3             Sudheendra Adiga   1.0   \n",
      "4                 SHYAM BUTIYA   5.0   \n",
      "5                  Placeholder   4.0   \n",
      "6               Ramamoorthy. R   3.0   \n",
      "7   KHARADI JOVANBHAI KALUBHAI   5.0   \n",
      "8      Dr. Ramesh Babu Devalla   5.0   \n",
      "9                 rakesh saini   4.0   \n",
      "10                 Placeholder   5.0   \n",
      "11            Sudheendra Adiga   1.0   \n",
      "12                SHYAM BUTIYA   5.0   \n",
      "13                 Placeholder   4.0   \n",
      "14              Ramamoorthy. R   3.0   \n",
      "15  KHARADI JOVANBHAI KALUBHAI   5.0   \n",
      "16     Dr. Ramesh Babu Devalla   5.0   \n",
      "17                rakesh saini   4.0   \n",
      "18                 Placeholder   5.0   \n",
      "19            Sudheendra Adiga   1.0   \n",
      "20                SHYAM BUTIYA   5.0   \n",
      "21                 Placeholder   4.0   \n",
      "22              Ramamoorthy. R   3.0   \n",
      "23  KHARADI JOVANBHAI KALUBHAI   5.0   \n",
      "24     Dr. Ramesh Babu Devalla   5.0   \n",
      "25                rakesh saini   4.0   \n",
      "26                 Placeholder   5.0   \n",
      "27            Sudheendra Adiga   1.0   \n",
      "28                SHYAM BUTIYA   5.0   \n",
      "29                 Placeholder   4.0   \n",
      "30              Ramamoorthy. R   3.0   \n",
      "31  KHARADI JOVANBHAI KALUBHAI   5.0   \n",
      "\n",
      "                                                Title Date  \\\n",
      "0   5.0 out of 5 stars\\nGB, Processor , Storage, F...  N/A   \n",
      "1   4.0 out of 5 stars\\nLaptop mother board gone f...  N/A   \n",
      "2                     5.0 out of 5 stars\\nOutstanding  N/A   \n",
      "3             1.0 out of 5 stars\\nPoor Quality laptop  N/A   \n",
      "4   5.0 out of 5 stars\\nBest laptop in this price ...  N/A   \n",
      "5                  4.0 out of 5 stars\\nsomewhat noisy  N/A   \n",
      "6      3.0 out of 5 stars\\nHp laptop battery not good  N/A   \n",
      "7                            5.0 out of 5 stars\\nGood  N/A   \n",
      "8   5.0 out of 5 stars\\nGB, Processor , Storage, F...  N/A   \n",
      "9   4.0 out of 5 stars\\nLaptop mother board gone f...  N/A   \n",
      "10                    5.0 out of 5 stars\\nOutstanding  N/A   \n",
      "11            1.0 out of 5 stars\\nPoor Quality laptop  N/A   \n",
      "12  5.0 out of 5 stars\\nBest laptop in this price ...  N/A   \n",
      "13                 4.0 out of 5 stars\\nsomewhat noisy  N/A   \n",
      "14     3.0 out of 5 stars\\nHp laptop battery not good  N/A   \n",
      "15                           5.0 out of 5 stars\\nGood  N/A   \n",
      "16  5.0 out of 5 stars\\nGB, Processor , Storage, F...  N/A   \n",
      "17  4.0 out of 5 stars\\nLaptop mother board gone f...  N/A   \n",
      "18                    5.0 out of 5 stars\\nOutstanding  N/A   \n",
      "19            1.0 out of 5 stars\\nPoor Quality laptop  N/A   \n",
      "20  5.0 out of 5 stars\\nBest laptop in this price ...  N/A   \n",
      "21                 4.0 out of 5 stars\\nsomewhat noisy  N/A   \n",
      "22     3.0 out of 5 stars\\nHp laptop battery not good  N/A   \n",
      "23                           5.0 out of 5 stars\\nGood  N/A   \n",
      "24  5.0 out of 5 stars\\nGB, Processor , Storage, F...  N/A   \n",
      "25  4.0 out of 5 stars\\nLaptop mother board gone f...  N/A   \n",
      "26                    5.0 out of 5 stars\\nOutstanding  N/A   \n",
      "27            1.0 out of 5 stars\\nPoor Quality laptop  N/A   \n",
      "28  5.0 out of 5 stars\\nBest laptop in this price ...  N/A   \n",
      "29                 4.0 out of 5 stars\\nsomewhat noisy  N/A   \n",
      "30     3.0 out of 5 stars\\nHp laptop battery not good  N/A   \n",
      "31                           5.0 out of 5 stars\\nGood  N/A   \n",
      "\n",
      "                                          Description  \n",
      "0   Excellent product. This laptop has met all my ...  \n",
      "1   After 15 days Laptop gone faulty customer care...  \n",
      "2   Happy with the specifications. Got it in a low...  \n",
      "3   From day one its not working.. Delivered defec...  \n",
      "4   I am using hp laptop since longtime, I had not...  \n",
      "5   overall product is good, little bit noisy some...  \n",
      "6   This item is working performance good, but bat...  \n",
      "7                                     Good\\nRead more  \n",
      "8   Excellent product. This laptop has met all my ...  \n",
      "9   After 15 days Laptop gone faulty customer care...  \n",
      "10  Happy with the specifications. Got it in a low...  \n",
      "11  From day one its not working.. Delivered defec...  \n",
      "12  I am using hp laptop since longtime, I had not...  \n",
      "13  overall product is good, little bit noisy some...  \n",
      "14  This item is working performance good, but bat...  \n",
      "15                                    Good\\nRead more  \n",
      "16  Excellent product. This laptop has met all my ...  \n",
      "17  After 15 days Laptop gone faulty customer care...  \n",
      "18  Happy with the specifications. Got it in a low...  \n",
      "19  From day one its not working.. Delivered defec...  \n",
      "20  I am using hp laptop since longtime, I had not...  \n",
      "21  overall product is good, little bit noisy some...  \n",
      "22  This item is working performance good, but bat...  \n",
      "23                                    Good\\nRead more  \n",
      "24  Excellent product. This laptop has met all my ...  \n",
      "25  After 15 days Laptop gone faulty customer care...  \n",
      "26  Happy with the specifications. Got it in a low...  \n",
      "27  From day one its not working.. Delivered defec...  \n",
      "28  I am using hp laptop since longtime, I had not...  \n",
      "29  overall product is good, little bit noisy some...  \n",
      "30  This item is working performance good, but bat...  \n",
      "31                                    Good\\nRead more  \n"
     ]
    }
   ],
   "source": [
    "print(df_reviews)"
   ]
  },
  {
   "cell_type": "code",
   "execution_count": 12,
   "id": "1e218730-eda9-4257-9f70-c73fd3e384a3",
   "metadata": {
    "tags": []
   },
   "outputs": [],
   "source": [
    "df_reviews.to_csv('hpreviews.csv', index=False)"
   ]
  },
  {
   "cell_type": "code",
   "execution_count": 13,
   "id": "bd340792-5988-4f0f-bf36-7ad1de4e80b5",
   "metadata": {
    "tags": []
   },
   "outputs": [],
   "source": [
    "import pandas as pd\n",
    "from sklearn.feature_extraction.text import TfidfVectorizer\n",
    "from sklearn.naive_bayes import MultinomialNB  # Import Naive Bayes\n",
    "from sklearn.pipeline import Pipeline\n",
    "from sklearn.model_selection import train_test_split\n",
    "from sklearn.metrics import mean_absolute_error, accuracy_score\n",
    "import numpy as np "
   ]
  },
  {
   "cell_type": "code",
   "execution_count": 14,
   "id": "82656a5d-4c7d-4bf6-8c72-1764a34a70ef",
   "metadata": {
    "tags": []
   },
   "outputs": [],
   "source": [
    "df = pd.read_csv('hpreviews.csv')"
   ]
  },
  {
   "cell_type": "code",
   "execution_count": 15,
   "id": "dc3ce533-72cd-479d-b207-687f7909ac0b",
   "metadata": {
    "tags": []
   },
   "outputs": [],
   "source": [
    "X = df['Description'] \n",
    "y = df['Stars'] "
   ]
  },
  {
   "cell_type": "code",
   "execution_count": 16,
   "id": "30fd454f-df82-41e9-a0fc-2cf0f4a0a32b",
   "metadata": {
    "tags": []
   },
   "outputs": [],
   "source": [
    "X_train, X_test, y_train, y_test = train_test_split(X, y, test_size=0.2, random_state=42)"
   ]
  },
  {
   "cell_type": "code",
   "execution_count": 17,
   "id": "00ce6bf2-a67b-4a20-9af2-53e5fe5088b8",
   "metadata": {
    "tags": []
   },
   "outputs": [],
   "source": [
    "pipeline = Pipeline([\n",
    "    ('tfidf', TfidfVectorizer(max_features=10000)),  \n",
    "    ('model', MultinomialNB())  # Use Naive Bayes (MultinomialNB)\n",
    "])"
   ]
  },
  {
   "cell_type": "code",
   "execution_count": 18,
   "id": "eb075e84-04e7-4d95-8c93-3ade938bb51d",
   "metadata": {
    "tags": []
   },
   "outputs": [
    {
     "data": {
      "text/html": [
       "<style>#sk-container-id-1 {color: black;}#sk-container-id-1 pre{padding: 0;}#sk-container-id-1 div.sk-toggleable {background-color: white;}#sk-container-id-1 label.sk-toggleable__label {cursor: pointer;display: block;width: 100%;margin-bottom: 0;padding: 0.3em;box-sizing: border-box;text-align: center;}#sk-container-id-1 label.sk-toggleable__label-arrow:before {content: \"▸\";float: left;margin-right: 0.25em;color: #696969;}#sk-container-id-1 label.sk-toggleable__label-arrow:hover:before {color: black;}#sk-container-id-1 div.sk-estimator:hover label.sk-toggleable__label-arrow:before {color: black;}#sk-container-id-1 div.sk-toggleable__content {max-height: 0;max-width: 0;overflow: hidden;text-align: left;background-color: #f0f8ff;}#sk-container-id-1 div.sk-toggleable__content pre {margin: 0.2em;color: black;border-radius: 0.25em;background-color: #f0f8ff;}#sk-container-id-1 input.sk-toggleable__control:checked~div.sk-toggleable__content {max-height: 200px;max-width: 100%;overflow: auto;}#sk-container-id-1 input.sk-toggleable__control:checked~label.sk-toggleable__label-arrow:before {content: \"▾\";}#sk-container-id-1 div.sk-estimator input.sk-toggleable__control:checked~label.sk-toggleable__label {background-color: #d4ebff;}#sk-container-id-1 div.sk-label input.sk-toggleable__control:checked~label.sk-toggleable__label {background-color: #d4ebff;}#sk-container-id-1 input.sk-hidden--visually {border: 0;clip: rect(1px 1px 1px 1px);clip: rect(1px, 1px, 1px, 1px);height: 1px;margin: -1px;overflow: hidden;padding: 0;position: absolute;width: 1px;}#sk-container-id-1 div.sk-estimator {font-family: monospace;background-color: #f0f8ff;border: 1px dotted black;border-radius: 0.25em;box-sizing: border-box;margin-bottom: 0.5em;}#sk-container-id-1 div.sk-estimator:hover {background-color: #d4ebff;}#sk-container-id-1 div.sk-parallel-item::after {content: \"\";width: 100%;border-bottom: 1px solid gray;flex-grow: 1;}#sk-container-id-1 div.sk-label:hover label.sk-toggleable__label {background-color: #d4ebff;}#sk-container-id-1 div.sk-serial::before {content: \"\";position: absolute;border-left: 1px solid gray;box-sizing: border-box;top: 0;bottom: 0;left: 50%;z-index: 0;}#sk-container-id-1 div.sk-serial {display: flex;flex-direction: column;align-items: center;background-color: white;padding-right: 0.2em;padding-left: 0.2em;position: relative;}#sk-container-id-1 div.sk-item {position: relative;z-index: 1;}#sk-container-id-1 div.sk-parallel {display: flex;align-items: stretch;justify-content: center;background-color: white;position: relative;}#sk-container-id-1 div.sk-item::before, #sk-container-id-1 div.sk-parallel-item::before {content: \"\";position: absolute;border-left: 1px solid gray;box-sizing: border-box;top: 0;bottom: 0;left: 50%;z-index: -1;}#sk-container-id-1 div.sk-parallel-item {display: flex;flex-direction: column;z-index: 1;position: relative;background-color: white;}#sk-container-id-1 div.sk-parallel-item:first-child::after {align-self: flex-end;width: 50%;}#sk-container-id-1 div.sk-parallel-item:last-child::after {align-self: flex-start;width: 50%;}#sk-container-id-1 div.sk-parallel-item:only-child::after {width: 0;}#sk-container-id-1 div.sk-dashed-wrapped {border: 1px dashed gray;margin: 0 0.4em 0.5em 0.4em;box-sizing: border-box;padding-bottom: 0.4em;background-color: white;}#sk-container-id-1 div.sk-label label {font-family: monospace;font-weight: bold;display: inline-block;line-height: 1.2em;}#sk-container-id-1 div.sk-label-container {text-align: center;}#sk-container-id-1 div.sk-container {/* jupyter's `normalize.less` sets `[hidden] { display: none; }` but bootstrap.min.css set `[hidden] { display: none !important; }` so we also need the `!important` here to be able to override the default hidden behavior on the sphinx rendered scikit-learn.org. See: https://github.com/scikit-learn/scikit-learn/issues/21755 */display: inline-block !important;position: relative;}#sk-container-id-1 div.sk-text-repr-fallback {display: none;}</style><div id=\"sk-container-id-1\" class=\"sk-top-container\"><div class=\"sk-text-repr-fallback\"><pre>Pipeline(steps=[(&#x27;tfidf&#x27;, TfidfVectorizer(max_features=10000)),\n",
       "                (&#x27;model&#x27;, MultinomialNB())])</pre><b>In a Jupyter environment, please rerun this cell to show the HTML representation or trust the notebook. <br />On GitHub, the HTML representation is unable to render, please try loading this page with nbviewer.org.</b></div><div class=\"sk-container\" hidden><div class=\"sk-item sk-dashed-wrapped\"><div class=\"sk-label-container\"><div class=\"sk-label sk-toggleable\"><input class=\"sk-toggleable__control sk-hidden--visually\" id=\"sk-estimator-id-1\" type=\"checkbox\" ><label for=\"sk-estimator-id-1\" class=\"sk-toggleable__label sk-toggleable__label-arrow\">Pipeline</label><div class=\"sk-toggleable__content\"><pre>Pipeline(steps=[(&#x27;tfidf&#x27;, TfidfVectorizer(max_features=10000)),\n",
       "                (&#x27;model&#x27;, MultinomialNB())])</pre></div></div></div><div class=\"sk-serial\"><div class=\"sk-item\"><div class=\"sk-estimator sk-toggleable\"><input class=\"sk-toggleable__control sk-hidden--visually\" id=\"sk-estimator-id-2\" type=\"checkbox\" ><label for=\"sk-estimator-id-2\" class=\"sk-toggleable__label sk-toggleable__label-arrow\">TfidfVectorizer</label><div class=\"sk-toggleable__content\"><pre>TfidfVectorizer(max_features=10000)</pre></div></div></div><div class=\"sk-item\"><div class=\"sk-estimator sk-toggleable\"><input class=\"sk-toggleable__control sk-hidden--visually\" id=\"sk-estimator-id-3\" type=\"checkbox\" ><label for=\"sk-estimator-id-3\" class=\"sk-toggleable__label sk-toggleable__label-arrow\">MultinomialNB</label><div class=\"sk-toggleable__content\"><pre>MultinomialNB()</pre></div></div></div></div></div></div></div>"
      ],
      "text/plain": [
       "Pipeline(steps=[('tfidf', TfidfVectorizer(max_features=10000)),\n",
       "                ('model', MultinomialNB())])"
      ]
     },
     "execution_count": 18,
     "metadata": {},
     "output_type": "execute_result"
    }
   ],
   "source": [
    "pipeline.fit(X_train, y_train)"
   ]
  },
  {
   "cell_type": "code",
   "execution_count": 19,
   "id": "001e766b-da5c-48f3-99eb-d1845f240048",
   "metadata": {
    "tags": []
   },
   "outputs": [
    {
     "name": "stdout",
     "output_type": "stream",
     "text": [
      "Mean Absolute Error: 0.0\n"
     ]
    }
   ],
   "source": [
    "y_pred = pipeline.predict(X_test)\n",
    "mae = mean_absolute_error(y_test, y_pred)\n",
    "print(\"Mean Absolute Error:\", mae)"
   ]
  },
  {
   "cell_type": "code",
   "execution_count": 20,
   "id": "80ae8c7b-1ef0-4474-a2a9-864abf0e9b79",
   "metadata": {
    "tags": []
   },
   "outputs": [
    {
     "name": "stdout",
     "output_type": "stream",
     "text": [
      "Accuracy Score: 1.0\n"
     ]
    }
   ],
   "source": [
    "accuracy = accuracy_score(y_test, y_pred)\n",
    "print(\"Accuracy Score:\", accuracy)"
   ]
  },
  {
   "cell_type": "code",
   "execution_count": 21,
   "id": "4f662224-0066-423c-9d52-d7be3e38761d",
   "metadata": {
    "tags": []
   },
   "outputs": [],
   "source": [
    "new_comments = [\"This is amazing!\", \"Not working\"]\n",
    "predicted_ratings = pipeline.predict(new_comments)\n",
    "predicted_ratings = np.round(predicted_ratings).astype(int)"
   ]
  },
  {
   "cell_type": "code",
   "execution_count": 62,
   "id": "887e858a-d8a3-4466-bfc1-c64f359c59b6",
   "metadata": {
    "tags": []
   },
   "outputs": [
    {
     "name": "stdout",
     "output_type": "stream",
     "text": [
      "Predicted Ratings: [5 5]\n"
     ]
    }
   ],
   "source": [
    "print(\"Predicted Ratings:\", predicted_ratings)"
   ]
  }
 ],
 "metadata": {
  "kernelspec": {
   "display_name": "Python 3 (ipykernel)",
   "language": "python",
   "name": "python3"
  },
  "language_info": {
   "codemirror_mode": {
    "name": "ipython",
    "version": 3
   },
   "file_extension": ".py",
   "mimetype": "text/x-python",
   "name": "python",
   "nbconvert_exporter": "python",
   "pygments_lexer": "ipython3",
   "version": "3.11.5"
  }
 },
 "nbformat": 4,
 "nbformat_minor": 5
}
